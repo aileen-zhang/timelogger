{
 "cells": [
  {
   "cell_type": "code",
   "execution_count": 3,
   "metadata": {},
   "outputs": [],
   "source": [
    "import csv"
   ]
  },
  {
   "cell_type": "code",
   "execution_count": 5,
   "metadata": {},
   "outputs": [],
   "source": [
    "with open('log_raw.csv', newline='') as raw:\n",
    "    with open('log_clean.csv', 'w+', newline='') as clean:\n",
    "        rawreader = csv.reader(raw)\n",
    "        cleanwriter = csv.writer(clean)\n",
    "        for row in rawreader:\n",
    "            for t, entry in enumerate(row[1:]):\n",
    "                hour = str(t // 2).zfill(2)\n",
    "                minute = str(30 * (t % 2)).zfill(2)\n",
    "                timestamp = row[0] + \" \" + hour + \":\" + minute + \":00\"\n",
    "                cleanwriter.writerow([timestamp, entry])"
   ]
  },
  {
   "cell_type": "code",
   "execution_count": 10,
   "metadata": {},
   "outputs": [],
   "source": [
    "taskmap = dict()\n",
    "\n",
    "with open('task_symbol.csv', newline='') as m:\n",
    "    with open('task.csv', 'w+', newline='') as auto_ids:\n",
    "        taskreader = csv.reader(m)\n",
    "        autowriter = csv.writer(auto_ids)\n",
    "        next(taskreader)\n",
    "        for tid, uid, symb in taskreader:\n",
    "            taskmap[symb] = tid\n",
    "            autowriter.writerow([uid, symb])\n",
    "\n",
    "with open('log_clean.csv', newline='') as symb_log:\n",
    "    with open('log.csv', 'w+', newline='') as task_log:\n",
    "        symbreader = csv.reader(symb_log)\n",
    "        taskwriter = csv.writer(task_log)\n",
    "        for time, symb in symbreader:\n",
    "            taskwriter.writerow([time,taskmap[symb]])\n",
    "\n",
    "\n"
   ]
  },
  {
   "cell_type": "code",
   "execution_count": null,
   "metadata": {},
   "outputs": [],
   "source": []
  }
 ],
 "metadata": {
  "kernelspec": {
   "display_name": "Python 3",
   "language": "python",
   "name": "python3"
  },
  "language_info": {
   "codemirror_mode": {
    "name": "ipython",
    "version": 3
   },
   "file_extension": ".py",
   "mimetype": "text/x-python",
   "name": "python",
   "nbconvert_exporter": "python",
   "pygments_lexer": "ipython3",
   "version": "3.10.10"
  },
  "orig_nbformat": 4
 },
 "nbformat": 4,
 "nbformat_minor": 2
}
